{
 "cells": [
  {
   "cell_type": "code",
   "execution_count": 1,
   "metadata": {
    "code_folding": []
   },
   "outputs": [
    {
     "name": "stdout",
     "output_type": "stream",
     "text": [
      "Wall time: 5.42 s\n"
     ]
    }
   ],
   "source": [
    "%%time\n",
    "# Data science libraries\n",
    "import scipy.io\n",
    "from scipy.io import savemat\n",
    "from scipy import signal\n",
    "import matplotlib.pyplot as plt\n",
    "from matplotlib.pyplot import figure\n",
    "import numpy as np\n",
    "import pandas as pd\n",
    "from sklearn.model_selection import train_test_split\n",
    "import random\n",
    "\n",
    "# Pytorch\n",
    "import torch\n",
    "from torch import nn\n",
    "from torch.nn import functional as F\n",
    "from torch import Tensor\n",
    "from torch.utils.data import TensorDataset, DataLoader\n",
    "from torch import optim\n",
    "from torch.nn.modules.loss import CrossEntropyLoss\n",
    "\n",
    "# Others\n",
    "from IPython.core.debugger import set_trace\n",
    "from pathlib import Path\n",
    "\n",
    "from helper import get_df_all, download\n",
    "from train_helper import get_dataloader, fit, validate \n",
    "import nn_model\n",
    "from data_urls import URLS"
   ]
  },
  {
   "cell_type": "code",
   "execution_count": 2,
   "metadata": {},
   "outputs": [],
   "source": [
    "working_dir = Path('.')\n",
    "DATA_PATH = Path(\"./Data\")\n",
    "save_model_path = working_dir / 'Model'\n",
    "DE_path = DATA_PATH / 'K001'"
   ]
  },
  {
   "cell_type": "markdown",
   "metadata": {},
   "source": [
    "### 'force', 'phase_current_1', 'phase_current_2', 'speed', 'temp_2_bearing_module', 'torque','vibration_1'"
   ]
  },
  {
   "cell_type": "code",
   "execution_count": 3,
   "metadata": {},
   "outputs": [
    {
     "name": "stdout",
     "output_type": "stream",
     "text": [
      "Wall time: 165 ms\n"
     ]
    }
   ],
   "source": [
    "%%time\n",
    "# df_all = get_df_all(DE_path, data_cat='vibration_1',segment_length=512, normalize=False)\n",
    "df_all = get_df_all(DE_path, data_cat='vibration_1', normalize=True)\n",
    "features = df_all.columns[2:]\n",
    "target = 'label'"
   ]
  },
  {
   "cell_type": "code",
   "execution_count": 4,
   "metadata": {},
   "outputs": [
    {
     "data": {
      "text/plain": [
       "(501, 514)"
      ]
     },
     "execution_count": 4,
     "metadata": {},
     "output_type": "execute_result"
    }
   ],
   "source": [
    "df_all.shape"
   ]
  },
  {
   "cell_type": "code",
   "execution_count": 5,
   "metadata": {},
   "outputs": [
    {
     "data": {
      "text/html": [
       "<div>\n",
       "<style scoped>\n",
       "    .dataframe tbody tr th:only-of-type {\n",
       "        vertical-align: middle;\n",
       "    }\n",
       "\n",
       "    .dataframe tbody tr th {\n",
       "        vertical-align: top;\n",
       "    }\n",
       "\n",
       "    .dataframe thead th {\n",
       "        text-align: right;\n",
       "    }\n",
       "</style>\n",
       "<table border=\"1\" class=\"dataframe\">\n",
       "  <thead>\n",
       "    <tr style=\"text-align: right;\">\n",
       "      <th></th>\n",
       "      <th>label</th>\n",
       "      <th>filename</th>\n",
       "      <th>0</th>\n",
       "      <th>1</th>\n",
       "      <th>2</th>\n",
       "      <th>3</th>\n",
       "      <th>4</th>\n",
       "      <th>5</th>\n",
       "      <th>6</th>\n",
       "      <th>7</th>\n",
       "      <th>...</th>\n",
       "      <th>502</th>\n",
       "      <th>503</th>\n",
       "      <th>504</th>\n",
       "      <th>505</th>\n",
       "      <th>506</th>\n",
       "      <th>507</th>\n",
       "      <th>508</th>\n",
       "      <th>509</th>\n",
       "      <th>510</th>\n",
       "      <th>511</th>\n",
       "    </tr>\n",
       "  </thead>\n",
       "  <tbody>\n",
       "    <tr>\n",
       "      <th>446</th>\n",
       "      <td>0</td>\n",
       "      <td>N09_M07_F10_K001_1</td>\n",
       "      <td>0.233175</td>\n",
       "      <td>0.000530</td>\n",
       "      <td>0.291336</td>\n",
       "      <td>-0.281967</td>\n",
       "      <td>0.116853</td>\n",
       "      <td>-0.423215</td>\n",
       "      <td>0.166705</td>\n",
       "      <td>-0.024396</td>\n",
       "      <td>...</td>\n",
       "      <td>0.058692</td>\n",
       "      <td>-1.644599</td>\n",
       "      <td>0.299645</td>\n",
       "      <td>-2.625030</td>\n",
       "      <td>0.166705</td>\n",
       "      <td>1.072357</td>\n",
       "      <td>-0.182262</td>\n",
       "      <td>-1.420263</td>\n",
       "      <td>-0.223805</td>\n",
       "      <td>0.831404</td>\n",
       "    </tr>\n",
       "    <tr>\n",
       "      <th>197</th>\n",
       "      <td>0</td>\n",
       "      <td>N09_M07_F10_K001_1</td>\n",
       "      <td>1.147136</td>\n",
       "      <td>-0.290275</td>\n",
       "      <td>-0.489685</td>\n",
       "      <td>-0.232114</td>\n",
       "      <td>0.756625</td>\n",
       "      <td>-0.024396</td>\n",
       "      <td>-0.107483</td>\n",
       "      <td>0.000530</td>\n",
       "      <td>...</td>\n",
       "      <td>4.179825</td>\n",
       "      <td>0.025457</td>\n",
       "      <td>-0.049322</td>\n",
       "      <td>-0.149027</td>\n",
       "      <td>-1.436881</td>\n",
       "      <td>-0.356745</td>\n",
       "      <td>-0.456450</td>\n",
       "      <td>-0.257040</td>\n",
       "      <td>-0.157336</td>\n",
       "      <td>-0.041013</td>\n",
       "    </tr>\n",
       "    <tr>\n",
       "      <th>352</th>\n",
       "      <td>0</td>\n",
       "      <td>N09_M07_F10_K001_1</td>\n",
       "      <td>0.108544</td>\n",
       "      <td>0.548907</td>\n",
       "      <td>-0.024396</td>\n",
       "      <td>-2.384077</td>\n",
       "      <td>-0.032705</td>\n",
       "      <td>2.110949</td>\n",
       "      <td>-0.007778</td>\n",
       "      <td>-0.788799</td>\n",
       "      <td>...</td>\n",
       "      <td>0.241484</td>\n",
       "      <td>0.116853</td>\n",
       "      <td>-0.913431</td>\n",
       "      <td>-0.298584</td>\n",
       "      <td>-0.365054</td>\n",
       "      <td>-0.140718</td>\n",
       "      <td>0.706773</td>\n",
       "      <td>0.141779</td>\n",
       "      <td>0.341189</td>\n",
       "      <td>-0.024396</td>\n",
       "    </tr>\n",
       "    <tr>\n",
       "      <th>459</th>\n",
       "      <td>0</td>\n",
       "      <td>N09_M07_F10_K001_1</td>\n",
       "      <td>-3.397743</td>\n",
       "      <td>0.299645</td>\n",
       "      <td>-0.315202</td>\n",
       "      <td>-0.223805</td>\n",
       "      <td>-7.867842</td>\n",
       "      <td>0.058692</td>\n",
       "      <td>-0.331819</td>\n",
       "      <td>0.125161</td>\n",
       "      <td>...</td>\n",
       "      <td>0.083618</td>\n",
       "      <td>0.507363</td>\n",
       "      <td>0.233175</td>\n",
       "      <td>-0.165644</td>\n",
       "      <td>0.199940</td>\n",
       "      <td>0.175014</td>\n",
       "      <td>0.058692</td>\n",
       "      <td>0.033765</td>\n",
       "      <td>-0.016087</td>\n",
       "      <td>-0.257040</td>\n",
       "    </tr>\n",
       "    <tr>\n",
       "      <th>135</th>\n",
       "      <td>0</td>\n",
       "      <td>N09_M07_F10_K001_1</td>\n",
       "      <td>0.133470</td>\n",
       "      <td>0.299645</td>\n",
       "      <td>0.274719</td>\n",
       "      <td>0.083618</td>\n",
       "      <td>0.100235</td>\n",
       "      <td>-0.190571</td>\n",
       "      <td>-0.024396</td>\n",
       "      <td>0.083618</td>\n",
       "      <td>...</td>\n",
       "      <td>-0.115792</td>\n",
       "      <td>-0.149027</td>\n",
       "      <td>-0.298584</td>\n",
       "      <td>-0.281967</td>\n",
       "      <td>-0.157336</td>\n",
       "      <td>-0.115792</td>\n",
       "      <td>0.208249</td>\n",
       "      <td>0.366115</td>\n",
       "      <td>0.357806</td>\n",
       "      <td>0.349497</td>\n",
       "    </tr>\n",
       "  </tbody>\n",
       "</table>\n",
       "<p>5 rows × 514 columns</p>\n",
       "</div>"
      ],
      "text/plain": [
       "     label            filename         0         1         2         3  \\\n",
       "446      0  N09_M07_F10_K001_1  0.233175  0.000530  0.291336 -0.281967   \n",
       "197      0  N09_M07_F10_K001_1  1.147136 -0.290275 -0.489685 -0.232114   \n",
       "352      0  N09_M07_F10_K001_1  0.108544  0.548907 -0.024396 -2.384077   \n",
       "459      0  N09_M07_F10_K001_1 -3.397743  0.299645 -0.315202 -0.223805   \n",
       "135      0  N09_M07_F10_K001_1  0.133470  0.299645  0.274719  0.083618   \n",
       "\n",
       "            4         5         6         7  ...       502       503  \\\n",
       "446  0.116853 -0.423215  0.166705 -0.024396  ...  0.058692 -1.644599   \n",
       "197  0.756625 -0.024396 -0.107483  0.000530  ...  4.179825  0.025457   \n",
       "352 -0.032705  2.110949 -0.007778 -0.788799  ...  0.241484  0.116853   \n",
       "459 -7.867842  0.058692 -0.331819  0.125161  ...  0.083618  0.507363   \n",
       "135  0.100235 -0.190571 -0.024396  0.083618  ... -0.115792 -0.149027   \n",
       "\n",
       "          504       505       506       507       508       509       510  \\\n",
       "446  0.299645 -2.625030  0.166705  1.072357 -0.182262 -1.420263 -0.223805   \n",
       "197 -0.049322 -0.149027 -1.436881 -0.356745 -0.456450 -0.257040 -0.157336   \n",
       "352 -0.913431 -0.298584 -0.365054 -0.140718  0.706773  0.141779  0.341189   \n",
       "459  0.233175 -0.165644  0.199940  0.175014  0.058692  0.033765 -0.016087   \n",
       "135 -0.298584 -0.281967 -0.157336 -0.115792  0.208249  0.366115  0.357806   \n",
       "\n",
       "          511  \n",
       "446  0.831404  \n",
       "197 -0.041013  \n",
       "352 -0.024396  \n",
       "459 -0.257040  \n",
       "135  0.349497  \n",
       "\n",
       "[5 rows x 514 columns]"
      ]
     },
     "execution_count": 5,
     "metadata": {},
     "output_type": "execute_result"
    }
   ],
   "source": [
    "df_all.sample(5)"
   ]
  },
  {
   "cell_type": "code",
   "execution_count": 6,
   "metadata": {},
   "outputs": [],
   "source": [
    "# wkwkwk = df_all['vibration_1'][0]"
   ]
  },
  {
   "cell_type": "code",
   "execution_count": 7,
   "metadata": {},
   "outputs": [],
   "source": [
    "# len(wkwkwk)"
   ]
  },
  {
   "cell_type": "code",
   "execution_count": 8,
   "metadata": {},
   "outputs": [],
   "source": [
    "# Fs = 64e3  # sampling frequency\n",
    "# dt = 1/Fs  # sampling interval\n",
    "# t = np.arange(0, 4, dt)"
   ]
  },
  {
   "cell_type": "code",
   "execution_count": 9,
   "metadata": {},
   "outputs": [],
   "source": [
    "# if len(wkwkwk) != len(t):\n",
    "#     wkwkwk = wkwkwk[:len(t)]"
   ]
  },
  {
   "cell_type": "code",
   "execution_count": 10,
   "metadata": {},
   "outputs": [],
   "source": [
    "# figure(figsize=(33, 7))\n",
    "# plt.xlabel('Seconds', fontsize=27)\n",
    "# plt.ylabel('Amplitude', fontsize=23)\n",
    "# fig = plt.plot(t, wkwkwk)\n"
   ]
  },
  {
   "cell_type": "code",
   "execution_count": 11,
   "metadata": {},
   "outputs": [],
   "source": [
    "#### HYPERPARAMETERS ####\n",
    "bs = 64\n",
    "lr = 0.001\n",
    "wd = 1e-5\n",
    "betas=(0.99, 0.999)\n",
    "device = torch.device(\"cuda\") if torch.cuda.is_available() else torch.device(\"cpu\")\n",
    "random_seed = 42"
   ]
  },
  {
   "cell_type": "markdown",
   "metadata": {},
   "source": [
    "# Load Data and Preprocessing"
   ]
  },
  {
   "cell_type": "code",
   "execution_count": 12,
   "metadata": {},
   "outputs": [],
   "source": [
    "## Split the data into train and validation set\n",
    "X_train, X_valid, y_train, y_valid = train_test_split(df_all[features], \n",
    "                                                      df_all[target], \n",
    "                                                      test_size=0.20, random_state=random_seed, shuffle=True\n",
    "                                                     )"
   ]
  },
  {
   "cell_type": "code",
   "execution_count": 13,
   "metadata": {},
   "outputs": [],
   "source": [
    "# rand_row_test = random.sample(range(X_valid.shape[0]), 960)\n",
    "# rand_row_train = random.sample(range(X_train.shape[0]), 500)\n",
    "# wkwkwk = {'trainData': np.array(X_train.iloc[rand_row_train]), 'testData': np.array(X_valid.iloc[rand_row_test])}\n",
    "# savemat('alhamdulillah.mat', wkwkwk)"
   ]
  },
  {
   "cell_type": "code",
   "execution_count": 14,
   "metadata": {},
   "outputs": [],
   "source": [
    "## Create DataLoader of train and validation set\n",
    "X_train = torch.tensor(X_train.values, dtype=torch.float32)\n",
    "X_valid = torch.tensor(X_valid.values, dtype=torch.float32)\n",
    "y_train = torch.tensor(y_train.values, dtype=torch.long)\n",
    "y_valid = torch.tensor(y_valid.values, dtype=torch.long)\n",
    "\n",
    "train_ds = TensorDataset(X_train, y_train)\n",
    "valid_ds = TensorDataset(X_valid, y_valid)\n",
    "train_dl, valid_dl = get_dataloader(train_ds, valid_ds, bs)"
   ]
  },
  {
   "cell_type": "markdown",
   "metadata": {},
   "source": [
    "# Training with Adams Optimizer"
   ]
  },
  {
   "cell_type": "code",
   "execution_count": 15,
   "metadata": {},
   "outputs": [
    {
     "name": "stdout",
     "output_type": "stream",
     "text": [
      "Wall time: 3.4 s\n"
     ]
    }
   ],
   "source": [
    "%%time\n",
    "# Instantiate model, optimizer and loss function\n",
    "model = nn_model.CNN_1D_2L(len(features))\n",
    "model.to(device)\n",
    "opt = optim.Adam(model.parameters(), lr=lr, betas=betas, weight_decay=wd)\n",
    "loss_func = CrossEntropyLoss()"
   ]
  },
  {
   "cell_type": "code",
   "execution_count": 16,
   "metadata": {},
   "outputs": [],
   "source": [
    "# model2 = nn_model.CNN_1D_2L(len(features))\n",
    "# model2.load_state_dict(torch.load(save_model_path / 'model.pth'))\n",
    "# model2.eval()\n",
    "# model2.to(device)\n",
    "# opt = optim.Adam(model2.parameters(), lr=lr, betas=betas, weight_decay=wd)"
   ]
  },
  {
   "cell_type": "code",
   "execution_count": 18,
   "metadata": {},
   "outputs": [
    {
     "name": "stdout",
     "output_type": "stream",
     "text": [
      "EPOCH \t Train Loss \t Val Loss \t Train Acc \t Val Acc \t\n",
      "0 \t 0.00000 \t 0.00000 \t 0.00000 \t1.00000 \t\n",
      "1 \t 0.00000 \t 0.00000 \t 0.00000 \t1.00000 \t\n",
      "2 \t 0.00000 \t 0.00000 \t 0.00000 \t1.00000 \t\n",
      "3 \t 0.00000 \t 0.00000 \t 0.00000 \t1.00000 \t\n",
      "4 \t 0.00000 \t 0.00000 \t 0.00000 \t1.00000 \t\n",
      "5 \t 0.00000 \t 0.00000 \t 0.00000 \t1.00000 \t\n",
      "6 \t 0.00000 \t 0.00000 \t 0.00000 \t1.00000 \t\n",
      "Wall time: 2.12 s\n"
     ]
    }
   ],
   "source": [
    "%%time\n",
    "## Train\n",
    "epochs = 7\n",
    "model, metrics, (y_true, predictions) = fit(epochs, model, loss_func, opt, train_dl, valid_dl, train_metric=False)"
   ]
  },
  {
   "cell_type": "code",
   "execution_count": 13,
   "metadata": {},
   "outputs": [
    {
     "name": "stdout",
     "output_type": "stream",
     "text": [
      "EPOCH \t Train Loss \t Val Loss \t Train Acc \t Val Acc \t\n",
      "0 \t 0.01948 \t 1.24169 \t 0.00000 \t0.44607 \t\n",
      "1 \t 0.01654 \t 1.16235 \t 0.00000 \t0.46397 \t\n",
      "2 \t 0.01526 \t 1.00918 \t 0.00000 \t0.51673 \t\n",
      "3 \t 0.01459 \t 0.96704 \t 0.00000 \t0.57728 \t\n",
      "4 \t 0.01408 \t 1.00092 \t 0.00000 \t0.52062 \t\n",
      "5 \t 0.01380 \t 0.96123 \t 0.00000 \t0.55136 \t\n",
      "6 \t 0.01355 \t 0.91958 \t 0.00000 \t0.59370 \t\n",
      "7 \t 0.01329 \t 0.88770 \t 0.00000 \t0.60825 \t\n",
      "8 \t 0.01322 \t 0.93226 \t 0.00000 \t0.58911 \t\n",
      "9 \t 0.01287 \t 0.89141 \t 0.00000 \t0.61167 \t\n",
      "10 \t 0.01273 \t 0.91815 \t 0.00000 \t0.60062 \t\n",
      "11 \t 0.01253 \t 0.91020 \t 0.00000 \t0.59432 \t\n",
      "12 \t 0.01253 \t 0.91560 \t 0.00000 \t0.58934 \t\n",
      "13 \t 0.01237 \t 0.88387 \t 0.00000 \t0.62934 \t\n",
      "14 \t 0.01250 \t 0.87770 \t 0.00000 \t0.62903 \t\n",
      "15 \t 0.01221 \t 0.88144 \t 0.00000 \t0.61323 \t\n",
      "16 \t 0.01203 \t 0.85045 \t 0.00000 \t0.64311 \t\n",
      "17 \t 0.01198 \t 0.89114 \t 0.00000 \t0.60615 \t\n",
      "18 \t 0.01189 \t 0.87758 \t 0.00000 \t0.62397 \t\n",
      "19 \t 0.01192 \t 0.87857 \t 0.00000 \t0.61658 \t\n",
      "20 \t 0.01176 \t 0.90462 \t 0.00000 \t0.59424 \t\n",
      "21 \t 0.01178 \t 0.83239 \t 0.00000 \t0.64342 \t\n",
      "22 \t 0.01168 \t 0.85913 \t 0.00000 \t0.61440 \t\n",
      "23 \t 0.01161 \t 0.88976 \t 0.00000 \t0.60272 \t\n",
      "24 \t 0.01164 \t 0.86593 \t 0.00000 \t0.60529 \t\n",
      "25 \t 0.01140 \t 0.81879 \t 0.00000 \t0.64389 \t\n",
      "26 \t 0.01158 \t 0.87097 \t 0.00000 \t0.62615 \t\n",
      "27 \t 0.01143 \t 0.85110 \t 0.00000 \t0.61331 \t\n",
      "28 \t 0.01138 \t 0.88076 \t 0.00000 \t0.60148 \t\n",
      "29 \t 0.01133 \t 0.83150 \t 0.00000 \t0.63805 \t\n",
      "30 \t 0.01140 \t 0.88828 \t 0.00000 \t0.59510 \t\n",
      "31 \t 0.01136 \t 0.84449 \t 0.00000 \t0.62646 \t\n",
      "32 \t 0.01123 \t 0.85902 \t 0.00000 \t0.61315 \t\n",
      "33 \t 0.01132 \t 0.84686 \t 0.00000 \t0.62848 \t\n",
      "34 \t 0.01120 \t 0.89067 \t 0.00000 \t0.59549 \t\n",
      "35 \t 0.01119 \t 0.87462 \t 0.00000 \t0.60482 \t\n",
      "36 \t 0.01118 \t 0.85574 \t 0.00000 \t0.62156 \t\n",
      "37 \t 0.01113 \t 0.85509 \t 0.00000 \t0.62304 \t\n",
      "38 \t 0.01118 \t 0.83334 \t 0.00000 \t0.63518 \t\n",
      "39 \t 0.01100 \t 0.83149 \t 0.00000 \t0.63626 \t\n",
      "40 \t 0.01105 \t 0.86495 \t 0.00000 \t0.62031 \t\n",
      "41 \t 0.01097 \t 0.86175 \t 0.00000 \t0.61339 \t\n",
      "42 \t 0.01106 \t 0.83225 \t 0.00000 \t0.63315 \t\n",
      "43 \t 0.01101 \t 0.84463 \t 0.00000 \t0.65393 \t\n",
      "44 \t 0.01108 \t 0.86563 \t 0.00000 \t0.61409 \t\n",
      "45 \t 0.01087 \t 0.82648 \t 0.00000 \t0.63198 \t\n",
      "46 \t 0.01100 \t 0.83960 \t 0.00000 \t0.63805 \t\n",
      "47 \t 0.01088 \t 0.88300 \t 0.00000 \t0.61790 \t\n",
      "48 \t 0.01089 \t 0.83439 \t 0.00000 \t0.61860 \t\n",
      "49 \t 0.01086 \t 0.83999 \t 0.00000 \t0.63619 \t\n",
      "50 \t 0.01085 \t 0.83748 \t 0.00000 \t0.64000 \t\n",
      "51 \t 0.01088 \t 0.83919 \t 0.00000 \t0.63541 \t\n",
      "52 \t 0.01089 \t 0.82697 \t 0.00000 \t0.64008 \t\n",
      "53 \t 0.01077 \t 0.86727 \t 0.00000 \t0.62887 \t\n",
      "54 \t 0.01082 \t 0.83198 \t 0.00000 \t0.63759 \t\n",
      "55 \t 0.01082 \t 0.86583 \t 0.00000 \t0.61728 \t\n",
      "56 \t 0.01077 \t 0.84815 \t 0.00000 \t0.62397 \t\n",
      "57 \t 0.01074 \t 0.79489 \t 0.00000 \t0.65152 \t\n",
      "58 \t 0.01081 \t 0.81319 \t 0.00000 \t0.64996 \t\n",
      "59 \t 0.01086 \t 0.83449 \t 0.00000 \t0.62965 \t\n",
      "60 \t 0.01075 \t 0.84603 \t 0.00000 \t0.63004 \t\n",
      "61 \t 0.01065 \t 0.82080 \t 0.00000 \t0.63891 \t\n",
      "62 \t 0.01081 \t 0.90039 \t 0.00000 \t0.58241 \t\n",
      "63 \t 0.01062 \t 0.80614 \t 0.00000 \t0.64833 \t\n",
      "64 \t 0.01071 \t 0.82631 \t 0.00000 \t0.65650 \t\n",
      "65 \t 0.01070 \t 0.85449 \t 0.00000 \t0.62732 \t\n",
      "66 \t 0.01066 \t 0.83329 \t 0.00000 \t0.64016 \t\n",
      "67 \t 0.01061 \t 0.84188 \t 0.00000 \t0.63074 \t\n",
      "68 \t 0.01060 \t 0.84444 \t 0.00000 \t0.62397 \t\n",
      "69 \t 0.01065 \t 0.86789 \t 0.00000 \t0.61728 \t\n",
      "70 \t 0.01063 \t 0.85551 \t 0.00000 \t0.62405 \t\n",
      "71 \t 0.01058 \t 0.80784 \t 0.00000 \t0.64856 \t\n",
      "72 \t 0.01059 \t 0.85777 \t 0.00000 \t0.61027 \t\n",
      "73 \t 0.01065 \t 0.81109 \t 0.00000 \t0.64226 \t\n",
      "74 \t 0.01070 \t 0.84129 \t 0.00000 \t0.62973 \t\n",
      "75 \t 0.01068 \t 0.83315 \t 0.00000 \t0.63160 \t\n",
      "76 \t 0.01060 \t 0.84164 \t 0.00000 \t0.64132 \t\n",
      "77 \t 0.01057 \t 0.84381 \t 0.00000 \t0.61611 \t\n",
      "78 \t 0.01050 \t 0.85434 \t 0.00000 \t0.62101 \t\n",
      "79 \t 0.01060 \t 0.85450 \t 0.00000 \t0.63883 \t\n",
      "80 \t 0.01054 \t 0.82322 \t 0.00000 \t0.64732 \t\n",
      "81 \t 0.01055 \t 0.81368 \t 0.00000 \t0.63440 \t\n",
      "82 \t 0.01056 \t 0.79827 \t 0.00000 \t0.66023 \t\n",
      "83 \t 0.01053 \t 0.84037 \t 0.00000 \t0.62342 \t\n",
      "84 \t 0.01055 \t 0.81832 \t 0.00000 \t0.63004 \t\n",
      "85 \t 0.01066 \t 0.84303 \t 0.00000 \t0.63471 \t\n",
      "86 \t 0.01048 \t 0.78799 \t 0.00000 \t0.66257 \t\n",
      "87 \t 0.01046 \t 0.82215 \t 0.00000 \t0.62630 \t\n",
      "88 \t 0.01044 \t 0.82351 \t 0.00000 \t0.64272 \t\n",
      "89 \t 0.01046 \t 0.80448 \t 0.00000 \t0.65097 \t\n",
      "90 \t 0.01050 \t 0.85435 \t 0.00000 \t0.62428 \t\n",
      "91 \t 0.01044 \t 0.84295 \t 0.00000 \t0.62506 \t\n",
      "92 \t 0.01047 \t 0.85460 \t 0.00000 \t0.62638 \t\n",
      "93 \t 0.01041 \t 0.80762 \t 0.00000 \t0.64833 \t\n",
      "94 \t 0.01049 \t 0.83364 \t 0.00000 \t0.65354 \t\n",
      "95 \t 0.01047 \t 0.82233 \t 0.00000 \t0.63012 \t\n",
      "96 \t 0.01047 \t 0.81319 \t 0.00000 \t0.64739 \t\n",
      "97 \t 0.01031 \t 0.81393 \t 0.00000 \t0.64093 \t\n",
      "98 \t 0.01046 \t 0.80620 \t 0.00000 \t0.63611 \t\n",
      "99 \t 0.01043 \t 0.81289 \t 0.00000 \t0.65058 \t\n",
      "Wall time: 46min 48s\n"
     ]
    }
   ],
   "source": [
    "%%time\n",
    "## Train CNN_1D_3L\n",
    "epochs = 100\n",
    "model, metrics, (y_true, predictions) = fit(epochs, model, loss_func, opt, train_dl, valid_dl, train_metric=False)"
   ]
  },
  {
   "cell_type": "code",
   "execution_count": 13,
   "metadata": {},
   "outputs": [
    {
     "data": {
      "text/plain": [
       "1"
      ]
     },
     "execution_count": 13,
     "metadata": {},
     "output_type": "execute_result"
    }
   ],
   "source": [
    "(predictions[0])"
   ]
  },
  {
   "cell_type": "markdown",
   "metadata": {},
   "source": [
    "# Save trained model"
   ]
  },
  {
   "cell_type": "code",
   "execution_count": 15,
   "metadata": {},
   "outputs": [],
   "source": [
    "torch.save(model.state_dict(), save_model_path / 'model.pth')"
   ]
  },
  {
   "cell_type": "code",
   "execution_count": 18,
   "metadata": {},
   "outputs": [
    {
     "name": "stdout",
     "output_type": "stream",
     "text": [
      "(0.1940675784208433, 0.9641555999529909, (array([0, 0, 0, ..., 0, 0, 0], dtype=int64), array([0, 0, 0, ..., 0, 0, 0], dtype=int64)))\n",
      "Wall time: 1.29 s\n"
     ]
    }
   ],
   "source": [
    "%%time\n",
    "print(validate(model, valid_dl, loss_func))"
   ]
  },
  {
   "cell_type": "code",
   "execution_count": null,
   "metadata": {},
   "outputs": [],
   "source": [
    "def validate(model, dl, loss_func):\n",
    "    total_loss = 0.0\n",
    "    total_size = 0\n",
    "    predictions = []\n",
    "    y_true = []\n",
    "    device = torch.device(\"cuda\") if torch.cuda.is_available() else torch.device(\"cpu\")\n",
    "    for xb, yb in dl: \n",
    "        xb, yb = xb.to(device), yb.to(device)\n",
    "        loss, batch_size, pred = loss_batch(model, loss_func, xb, yb)\n",
    "        total_loss += loss*batch_size\n",
    "        total_size += batch_size\n",
    "        predictions.append(pred)\n",
    "        y_true.append(yb.cpu().numpy())\n",
    "    mean_loss = total_loss / total_size\n",
    "    predictions = np.concatenate(predictions, axis=0)\n",
    "    y_true = np.concatenate(y_true, axis=0)\n",
    "    accuracy = np.mean((predictions == y_true))\n",
    "    return mean_loss, accuracy, (y_true, predictions)"
   ]
  },
  {
   "cell_type": "code",
   "execution_count": 21,
   "metadata": {},
   "outputs": [
    {
     "data": {
      "text/plain": [
       "<torch.utils.data.dataloader.DataLoader at 0x19f7fc77ec8>"
      ]
     },
     "execution_count": 21,
     "metadata": {},
     "output_type": "execute_result"
    }
   ],
   "source": [
    "train_dl, valid_dl = get_dataloader(train_ds, valid_ds, bs)"
   ]
  }
 ],
 "metadata": {
  "kernelspec": {
   "display_name": "Python 3",
   "language": "python",
   "name": "python3"
  },
  "language_info": {
   "codemirror_mode": {
    "name": "ipython",
    "version": 3
   },
   "file_extension": ".py",
   "mimetype": "text/x-python",
   "name": "python",
   "nbconvert_exporter": "python",
   "pygments_lexer": "ipython3",
   "version": "3.7.9"
  }
 },
 "nbformat": 4,
 "nbformat_minor": 2
}
